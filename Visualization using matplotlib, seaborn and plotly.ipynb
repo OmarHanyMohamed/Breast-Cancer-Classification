{
 "cells": [
  {
   "cell_type": "markdown",
   "metadata": {},
   "source": [
    "# We will Start by importing necessary Libraries"
   ]
  },
  {
   "cell_type": "code",
   "execution_count": null,
   "metadata": {},
   "outputs": [],
   "source": [
    "#Data analysis and wrangling\n",
    "import numpy as np\n",
    "import pandas as pd\n",
    "\n",
    "#visualization\n",
    "import matplotlib.pyplot as plt\n",
    "import seaborn as sns\n",
    "import cufflinks as cf\n",
    "from plotly.offline import download_plotlyjs, init_notebook_mode, plot, iplot\n",
    "\n",
    "init_notebook_mode(connected = True)\n",
    "cf.go_offline()\n",
    "%matplotlib inline"
   ]
  },
  {
   "cell_type": "markdown",
   "metadata": {},
   "source": [
    "# Acquiring the data\n",
    "The Python Pandas packages helps us work with our datasets. We start by acquiring the dataset into Pandas DataFrames."
   ]
  },
  {
   "cell_type": "code",
   "execution_count": null,
   "metadata": {},
   "outputs": [],
   "source": [
    "#Reading our csv file into pandas dataframe\n",
    "df = pd.read_csv('train (3).csv')\n",
    "df.head()"
   ]
  },
  {
   "cell_type": "markdown",
   "metadata": {},
   "source": [
    "# Now we will try to understand our data before doing any analysis\n"
   ]
  },
  {
   "cell_type": "code",
   "execution_count": null,
   "metadata": {},
   "outputs": [],
   "source": [
    "#Viewing the shape of the data to know how many features we have and how many rows \n",
    "df.shape"
   ]
  },
  {
   "cell_type": "code",
   "execution_count": null,
   "metadata": {},
   "outputs": [],
   "source": [
    "#As we can see there are null values on the Province_State\n",
    "df.info()"
   ]
  },
  {
   "cell_type": "code",
   "execution_count": null,
   "metadata": {
    "scrolled": true
   },
   "outputs": [],
   "source": [
    "#How many null values do we have in each feature \n",
    "df.isnull().sum()"
   ]
  },
  {
   "cell_type": "code",
   "execution_count": null,
   "metadata": {},
   "outputs": [],
   "source": [
    "#Although, we won't care much about dealing with missing data for now\n",
    "#But Plotting missing data can be very helpful in understanding our dataset\n",
    "total = df.isnull().sum().sort_values(ascending=False)\n",
    "percent = ((df.isnull().sum()/df.isnull().count()) * 100).sort_values(ascending=False)\n",
    "missing_data = pd.concat([total, percent], axis=1, keys=['Total', 'Percent'])\n",
    "f, ax = plt.subplots(figsize=(15, 6))\n",
    "plt.xticks(rotation='90')\n",
    "sns.barplot(x=missing_data.index, y=missing_data['Percent'])\n",
    "plt.xlabel('Features', fontsize=15)\n",
    "plt.ylabel('Percent of missing values', fontsize=15)\n",
    "plt.title('Percent missing data by feature', fontsize=15)\n",
    "missing_data.head()"
   ]
  },
  {
   "cell_type": "markdown",
   "metadata": {},
   "source": [
    "# Now that we have a little bit understanding about our data\n",
    "## Let's now determine which features are important in our analysis and which is not"
   ]
  },
  {
   "cell_type": "code",
   "execution_count": null,
   "metadata": {},
   "outputs": [],
   "source": [
    "# How many unique values in our Id column\n",
    "# I know this sounds strange as when seeing id you know that it will be unique but some datasets have duplicated id values \n",
    "df.Id.nunique()"
   ]
  },
  {
   "cell_type": "code",
   "execution_count": null,
   "metadata": {},
   "outputs": [],
   "source": [
    "# Now we are trying to find how many unique values are presented in Province_state column \n",
    "# Finding unique values may help us have better understanding of our data\n",
    "print(f\"It has { df.Province_State.nunique() } unique values and it's top 5 values are:\")\n",
    "print('-'*50)\n",
    "print(df.Province_State.value_counts(dropna=False).head())"
   ]
  },
  {
   "cell_type": "code",
   "execution_count": null,
   "metadata": {},
   "outputs": [],
   "source": [
    "# trying to find how many unique values are presented in Country_Region column \n",
    "print(f\"It has { df.Country_Region.nunique() } unique values and it's top 5 values are:\")\n",
    "print('-'*50)\n",
    "print(df.Country_Region.value_counts(dropna=False).head())"
   ]
  },
  {
   "cell_type": "code",
   "execution_count": null,
   "metadata": {},
   "outputs": [],
   "source": [
    "df.ConfirmedCases.nunique()"
   ]
  },
  {
   "cell_type": "code",
   "execution_count": null,
   "metadata": {},
   "outputs": [],
   "source": [
    "print(df.columns.values)"
   ]
  },
  {
   "cell_type": "markdown",
   "metadata": {},
   "source": [
    "# Now as you can see that none of those columns can give us better information \n",
    "## But we have the Date column which may help us understand more about our data\n",
    "we must make sure that it's a datetime64 format cause as we saw above it is an object format  "
   ]
  },
  {
   "cell_type": "code",
   "execution_count": null,
   "metadata": {},
   "outputs": [],
   "source": [
    "# Convert Date from object to datetime64 format\n",
    "df['Date'] = pd.to_datetime(df['Date'])"
   ]
  },
  {
   "cell_type": "code",
   "execution_count": null,
   "metadata": {},
   "outputs": [],
   "source": [
    "# As we can see day has 31 unique values which is better than before \n",
    "df.Date.dt.day.nunique()"
   ]
  },
  {
   "cell_type": "code",
   "execution_count": null,
   "metadata": {
    "scrolled": true
   },
   "outputs": [],
   "source": [
    "# Month is even better as it has only 4 values\n",
    "df.Date.dt.month.nunique()"
   ]
  },
  {
   "cell_type": "code",
   "execution_count": null,
   "metadata": {},
   "outputs": [],
   "source": [
    "# Year won't help us.. \n",
    "df.Date.dt.year.nunique()"
   ]
  },
  {
   "cell_type": "markdown",
   "metadata": {},
   "source": [
    "## We can see now that date column actually can help us very much in our analysis "
   ]
  },
  {
   "cell_type": "code",
   "execution_count": null,
   "metadata": {},
   "outputs": [],
   "source": [
    "# Create two columns for the day and month \n",
    "df['Day'] = df.Date.dt.day\n",
    "df['Month'] = df.Date.dt.month"
   ]
  },
  {
   "cell_type": "code",
   "execution_count": null,
   "metadata": {},
   "outputs": [],
   "source": [
    "df.head()"
   ]
  },
  {
   "cell_type": "code",
   "execution_count": null,
   "metadata": {},
   "outputs": [],
   "source": [
    "# We can drop the Date column as it we got what we wanted from it \n",
    "# we can also drop the id column as it doesn't give us any infromation \n",
    "df.drop(['Id', 'Date'], axis=1, inplace=True)"
   ]
  },
  {
   "cell_type": "code",
   "execution_count": null,
   "metadata": {},
   "outputs": [],
   "source": [
    "# Our dataframe now looks like this\n",
    "df.head()"
   ]
  },
  {
   "cell_type": "code",
   "execution_count": null,
   "metadata": {},
   "outputs": [],
   "source": [
    "# Our features data types\n",
    "df.dtypes"
   ]
  },
  {
   "cell_type": "code",
   "execution_count": null,
   "metadata": {},
   "outputs": [],
   "source": [
    "# Know We want to know how to use the month column in our advantage\n",
    "df.Month.value_counts(dropna=False)"
   ]
  },
  {
   "cell_type": "code",
   "execution_count": null,
   "metadata": {},
   "outputs": [],
   "source": [
    "# Use describe function to know more about the month and if we can use it or not \n",
    "df.groupby('Month').describe()"
   ]
  },
  {
   "cell_type": "markdown",
   "metadata": {},
   "source": [
    "# Time for some visualization\n",
    "## We 'll use these libraries ( Matplotlib, Seaborn and plotly )"
   ]
  },
  {
   "cell_type": "code",
   "execution_count": null,
   "metadata": {},
   "outputs": [],
   "source": [
    "# Create a frequency distribution table as our month is a categorical variable although it's integer \n",
    "month_freq = df.groupby('Month').size().reset_index(name='Count')\n",
    "plt.figure(figsize=(15, 10))\n",
    "sns.set_style('whitegrid')\n",
    "sns.countplot(x='Month', data=df)\n",
    "plt.xlabel('Month', fontsize=20)\n",
    "plt.ylabel('Count', fontsize=20)\n",
    "month_freq"
   ]
  },
  {
   "cell_type": "code",
   "execution_count": null,
   "metadata": {},
   "outputs": [],
   "source": [
    "# Also can be done with plotly\n",
    "# Creating a barplot for month column\n",
    "df.iplot(kind = 'bar', x = 'Month', xTitle='Month', yTitle='Count')"
   ]
  },
  {
   "cell_type": "code",
   "execution_count": null,
   "metadata": {},
   "outputs": [],
   "source": [
    "# Pie chart\n",
    "# values for the chart\n",
    "val = [df['Month'][df['Month'] == 1].count(),df['Month'][df['Month'] == 2].count(), df['Month'][df['Month'] == 2].count()]  # number of values of Jan, Feb & March\n",
    "fig1, ax1 = plt.subplots(figsize=(15, 7))\n",
    "ax1.pie(val, explode=(0, 0.05, 0.05), labels=['January', 'February', 'March'], colors=['#c03d3e','#095b97', '#3a923a'], autopct='%1.1f%%', shadow=True, startangle=90, textprops={'fontsize': 15, 'fontWeight':'bold'})\n",
    "# Equal aspect ratio ensures that pie is drawn as a circle\n",
    "ax1.axis('equal')\n",
    "plt.tight_layout()\n",
    "plt.show()"
   ]
  },
  {
   "cell_type": "code",
   "execution_count": null,
   "metadata": {},
   "outputs": [],
   "source": [
    "# Seeing the relation between Month and Fatalities\n",
    "df.iplot(kind = 'bar', x = 'Month', y = 'Fatalities', xTitle='Month', yTitle='Fatalities')"
   ]
  },
  {
   "cell_type": "code",
   "execution_count": null,
   "metadata": {},
   "outputs": [],
   "source": [
    "# Using histogram for Fatalities \n",
    "plt.figure(figsize=(18, 10))\n",
    "plt.hist(df.Fatalities)"
   ]
  },
  {
   "cell_type": "code",
   "execution_count": null,
   "metadata": {
    "scrolled": false
   },
   "outputs": [],
   "source": [
    "# Using the distribution plot from seaborn \n",
    "plt.figure(figsize=(18, 10))\n",
    "sns.distplot(df.Fatalities.dropna(), bins=30)"
   ]
  },
  {
   "cell_type": "code",
   "execution_count": null,
   "metadata": {},
   "outputs": [],
   "source": [
    "# Creating a scatter plot for ConfirmedCases & Fatalities\n",
    "plt.figure(figsize=(15, 10))\n",
    "plt.scatter(df.ConfirmedCases, df.Fatalities, marker='D')"
   ]
  },
  {
   "cell_type": "code",
   "execution_count": null,
   "metadata": {},
   "outputs": [],
   "source": [
    "df.iplot(x = 'ConfirmedCases', y = 'Fatalities')"
   ]
  },
  {
   "cell_type": "code",
   "execution_count": null,
   "metadata": {},
   "outputs": [],
   "source": [
    "sns.lmplot(x='ConfirmedCases', y='Fatalities', data=df, hue='Month', markers=['o', 'D', 'D', '*'])"
   ]
  },
  {
   "cell_type": "code",
   "execution_count": null,
   "metadata": {},
   "outputs": [],
   "source": [
    "# Box plot for our dataset \n",
    "df.iplot(kind = 'box')"
   ]
  },
  {
   "cell_type": "code",
   "execution_count": null,
   "metadata": {},
   "outputs": [],
   "source": [
    "# stripplot showed that every month number of cases and Fatalities increases\n",
    "plt.figure(figsize=(15, 7))\n",
    "sns.stripplot(x='Month', y='Fatalities', data=df)"
   ]
  },
  {
   "cell_type": "code",
   "execution_count": null,
   "metadata": {
    "scrolled": false
   },
   "outputs": [],
   "source": [
    "sns.factorplot(x='Month', y='Fatalities', data=df, size=10)"
   ]
  },
  {
   "cell_type": "code",
   "execution_count": null,
   "metadata": {},
   "outputs": [],
   "source": [
    "sns.factorplot(x='Month', y='ConfirmedCases', data=df, size=10)"
   ]
  },
  {
   "cell_type": "code",
   "execution_count": null,
   "metadata": {
    "scrolled": false
   },
   "outputs": [],
   "source": [
    "plt.figure(figsize=(20, 12))\n",
    "sns.pairplot(df, hue='Month')"
   ]
  },
  {
   "cell_type": "code",
   "execution_count": null,
   "metadata": {
    "scrolled": false
   },
   "outputs": [],
   "source": [
    "# Creating a coorelation heatmap to how features are affected by each other (relationship between features)\n",
    "# using correlation coefficient \n",
    "plt.figure(figsize=(20, 12))\n",
    "sns.heatmap(df.corr(),annot=True, cmap='coolwarm')"
   ]
  }
 ],
 "metadata": {
  "kernelspec": {
   "display_name": "Python 3",
   "language": "python",
   "name": "python3"
  },
  "language_info": {
   "codemirror_mode": {
    "name": "ipython",
    "version": 3
   },
   "file_extension": ".py",
   "mimetype": "text/x-python",
   "name": "python",
   "nbconvert_exporter": "python",
   "pygments_lexer": "ipython3",
   "version": "3.6.5"
  }
 },
 "nbformat": 4,
 "nbformat_minor": 2
}
